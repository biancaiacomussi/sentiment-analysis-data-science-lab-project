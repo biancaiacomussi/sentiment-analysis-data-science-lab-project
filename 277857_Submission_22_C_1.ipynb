{
 "cells": [
  {
   "cell_type": "markdown",
   "metadata": {},
   "source": [
    "# Data Exploration"
   ]
  },
  {
   "cell_type": "code",
   "execution_count": 2,
   "metadata": {},
   "outputs": [],
   "source": [
    "import pandas as pd\n",
    "import numpy as np\n",
    "import matplotlib.pyplot as plt"
   ]
  },
  {
   "cell_type": "code",
   "execution_count": 3,
   "metadata": {},
   "outputs": [],
   "source": [
    "dev = pd.read_csv('development.csv', sep=\",\", encoding=\"UTF-8\")\n",
    "eva = pd.read_csv('evaluation.csv', sep=\",\", encoding=\"UTF-8\")"
   ]
  },
  {
   "cell_type": "code",
   "execution_count": 52,
   "metadata": {},
   "outputs": [
    {
     "name": "stdout",
     "output_type": "stream",
     "text": [
      "Information on development set\n",
      "Shape: (28754, 2)\n",
      "<class 'pandas.core.frame.DataFrame'>\n",
      "RangeIndex: 28754 entries, 0 to 28753\n",
      "Data columns (total 2 columns):\n",
      "text     28754 non-null object\n",
      "class    28754 non-null object\n",
      "dtypes: object(2)\n",
      "memory usage: 449.4+ KB\n"
     ]
    },
    {
     "data": {
      "text/html": [
       "<div>\n",
       "<style scoped>\n",
       "    .dataframe tbody tr th:only-of-type {\n",
       "        vertical-align: middle;\n",
       "    }\n",
       "\n",
       "    .dataframe tbody tr th {\n",
       "        vertical-align: top;\n",
       "    }\n",
       "\n",
       "    .dataframe thead th {\n",
       "        text-align: right;\n",
       "    }\n",
       "</style>\n",
       "<table border=\"1\" class=\"dataframe\">\n",
       "  <thead>\n",
       "    <tr style=\"text-align: right;\">\n",
       "      <th></th>\n",
       "      <th>text</th>\n",
       "      <th>class</th>\n",
       "    </tr>\n",
       "  </thead>\n",
       "  <tbody>\n",
       "    <tr>\n",
       "      <th>count</th>\n",
       "      <td>28754</td>\n",
       "      <td>28754</td>\n",
       "    </tr>\n",
       "    <tr>\n",
       "      <th>unique</th>\n",
       "      <td>28754</td>\n",
       "      <td>2</td>\n",
       "    </tr>\n",
       "    <tr>\n",
       "      <th>top</th>\n",
       "      <td>Ho trovato gente cordiale e disponibile a Napo...</td>\n",
       "      <td>pos</td>\n",
       "    </tr>\n",
       "    <tr>\n",
       "      <th>freq</th>\n",
       "      <td>1</td>\n",
       "      <td>19532</td>\n",
       "    </tr>\n",
       "  </tbody>\n",
       "</table>\n",
       "</div>"
      ],
      "text/plain": [
       "                                                     text  class\n",
       "count                                               28754  28754\n",
       "unique                                              28754      2\n",
       "top     Ho trovato gente cordiale e disponibile a Napo...    pos\n",
       "freq                                                    1  19532"
      ]
     },
     "execution_count": 52,
     "metadata": {},
     "output_type": "execute_result"
    }
   ],
   "source": [
    "# print(\"Information on development set\")\n",
    "# print(\"Shape: \"+str(dev.shape))\n",
    "# dev.info()\n",
    "# dev.describe()"
   ]
  },
  {
   "cell_type": "code",
   "execution_count": 54,
   "metadata": {},
   "outputs": [
    {
     "name": "stdout",
     "output_type": "stream",
     "text": [
      "Information on evaluation set\n",
      "Shape: (12323, 1)\n",
      "<class 'pandas.core.frame.DataFrame'>\n",
      "RangeIndex: 12323 entries, 0 to 12322\n",
      "Data columns (total 1 columns):\n",
      "text    12323 non-null object\n",
      "dtypes: object(1)\n",
      "memory usage: 96.4+ KB\n"
     ]
    },
    {
     "data": {
      "text/html": [
       "<div>\n",
       "<style scoped>\n",
       "    .dataframe tbody tr th:only-of-type {\n",
       "        vertical-align: middle;\n",
       "    }\n",
       "\n",
       "    .dataframe tbody tr th {\n",
       "        vertical-align: top;\n",
       "    }\n",
       "\n",
       "    .dataframe thead th {\n",
       "        text-align: right;\n",
       "    }\n",
       "</style>\n",
       "<table border=\"1\" class=\"dataframe\">\n",
       "  <thead>\n",
       "    <tr style=\"text-align: right;\">\n",
       "      <th></th>\n",
       "      <th>text</th>\n",
       "    </tr>\n",
       "  </thead>\n",
       "  <tbody>\n",
       "    <tr>\n",
       "      <th>count</th>\n",
       "      <td>12323</td>\n",
       "    </tr>\n",
       "    <tr>\n",
       "      <th>unique</th>\n",
       "      <td>12323</td>\n",
       "    </tr>\n",
       "    <tr>\n",
       "      <th>top</th>\n",
       "      <td>Mi spiace tanto lasciare una recensione negati...</td>\n",
       "    </tr>\n",
       "    <tr>\n",
       "      <th>freq</th>\n",
       "      <td>1</td>\n",
       "    </tr>\n",
       "  </tbody>\n",
       "</table>\n",
       "</div>"
      ],
      "text/plain": [
       "                                                     text\n",
       "count                                               12323\n",
       "unique                                              12323\n",
       "top     Mi spiace tanto lasciare una recensione negati...\n",
       "freq                                                    1"
      ]
     },
     "execution_count": 54,
     "metadata": {},
     "output_type": "execute_result"
    }
   ],
   "source": [
    "# print(\"Information on evaluation set\")\n",
    "# print(\"Shape: \"+str(eva.shape))\n",
    "# eva.info()\n",
    "# eva.describe()"
   ]
  },
  {
   "cell_type": "code",
   "execution_count": 55,
   "metadata": {},
   "outputs": [
    {
     "data": {
      "image/png": "[encoded data removed]",
      "text/plain": [
       "<Figure size 720x360 with 1 Axes>"
      ]
     },
     "metadata": {
      "needs_background": "light"
     },
     "output_type": "display_data"
    },
    {
     "name": "stdout",
     "output_type": "stream",
     "text": [
      "Number of positive reviews: 19532\n",
      "Number of negative reviews: 9222\n"
     ]
    }
   ],
   "source": [
    "# counts = dev[\"class\"].value_counts()\n",
    "# labels = dev[\"class\"].unique()\n",
    "# x = [1,2] #position of the bars, x axis\n",
    "# fig, ax = plt.subplots(figsize=(10, 5))\n",
    "# ax.bar(x, counts, tick_label=labels, width=0.5)\n",
    "# plt.title(\"Number of reviews per class in the development set\")\n",
    "# plt.xlabel('Class')\n",
    "# plt.ylabel('Frequency')\n",
    "# plt.show()\n",
    "# print(f\"Number of positive reviews: {counts[0]}\")\n",
    "# print(f\"Number of negative reviews: {counts[1]}\")"
   ]
  },
  {
   "cell_type": "code",
   "execution_count": 56,
   "metadata": {},
   "outputs": [],
   "source": [
    "# def count_missing_values(df):\n",
    "#     for col in df:\n",
    "#         miss = len(df[df[col].isnull()==True])\n",
    "#         print(f\"{col}: {miss}\")"
   ]
  },
  {
   "cell_type": "code",
   "execution_count": 58,
   "metadata": {},
   "outputs": [
    {
     "name": "stdout",
     "output_type": "stream",
     "text": [
      "Missing values in the development set:\n",
      "text: 0\n",
      "class: 0\n",
      "Missing values in the evaluation set:\n",
      "text: 0\n"
     ]
    }
   ],
   "source": [
    "# print(\"Missing values in the development set:\")\n",
    "# count_missing_values(dev)\n",
    "# print(\"Missing values in the evaluation set:\")\n",
    "# count_missing_values(eva)"
   ]
  },
  {
   "cell_type": "markdown",
   "metadata": {},
   "source": [
    "# Preprocessing"
   ]
  },
  {
   "cell_type": "code",
   "execution_count": 4,
   "metadata": {},
   "outputs": [],
   "source": [
    "from sklearn.feature_extraction.text import TfidfVectorizer\n",
    "import nltk\n",
    "from nltk.corpus import stopwords as sw\n",
    "from nltk.stem.snowball import SnowballStemmer\n",
    "from nltk.tokenize import TweetTokenizer\n",
    "import re\n",
    "import string\n",
    "from sklearn.decomposition import TruncatedSVD"
   ]
  },
  {
   "cell_type": "code",
   "execution_count": 5,
   "metadata": {},
   "outputs": [],
   "source": [
    "class StemTokenizer(object):\n",
    "    def __init__(self):\n",
    "        self.stemmer = SnowballStemmer(\"italian\", ignore_stopwords=True)\n",
    "        self.tok = TweetTokenizer()\n",
    "    \n",
    "    def stemtize(self, document):\n",
    "        stems = []\n",
    "        emot = [\":)\", \"!\", \"...\", \"....\", \":(\", \":D\", \"D:\", \":-(\", \":-)\", \";)\", \";-)\"]\n",
    "        re_words = re.compile(\"^[a-zA-Z]+?\")\n",
    "        for s in document:\n",
    "            l = \"\"\n",
    "            for punct in string.punctuation:\n",
    "                if punct==\"\\'\":\n",
    "                    s = s.replace(punct, \" \")\n",
    "            \n",
    "            for t in self.tok.tokenize(s):\n",
    "                t = t.strip()\n",
    "\n",
    "                if t in emot:\n",
    "                    l = l+\" \"+t.lower()\n",
    "                   \n",
    "                stem = self.stemmer.stem(t)\n",
    "                \n",
    "                if stem not in string.punctuation and len(stem) > 2  and re_words.match(stem):\n",
    "                    l = l+\" \"+stem.lower()\n",
    "            \n",
    "            stems.append(l)\n",
    "        return stems"
   ]
  },
  {
   "cell_type": "code",
   "execution_count": 6,
   "metadata": {},
   "outputs": [],
   "source": [
    "tot = dev.append(eva, sort = False)\n",
    "tokenizer = StemTokenizer()\n",
    "words = tokenizer.stemtize(tot[\"text\"])\n",
    "tot[\"tokens\"] = words"
   ]
  },
  {
   "cell_type": "code",
   "execution_count": 7,
   "metadata": {},
   "outputs": [],
   "source": [
    "stopwords = sw.words('italian')\n",
    "vectorizer = TfidfVectorizer(input = \"content\", stop_words=stopwords, min_df=5, token_pattern=r'[^\\s]+') #the regular expression r'[^\\s]+' allows to include also non alphabetical characters\n",
    "tfidf_X = vectorizer.fit_transform(tot[\"tokens\"])"
   ]
  },
  {
   "cell_type": "code",
   "execution_count": 8,
   "metadata": {},
   "outputs": [],
   "source": [
    "tfidf_train = tfidf_X[0:dev.shape[0], :] #training set\n",
    "tfidf_test = tfidf_X[dev.shape[0]:, :] #test_set"
   ]
  },
  {
   "cell_type": "code",
   "execution_count": 16,
   "metadata": {},
   "outputs": [
    {
     "data": {
      "text/plain": [
       "(28754, 9949)"
      ]
     },
     "execution_count": 16,
     "metadata": {},
     "output_type": "execute_result"
    }
   ],
   "source": [
    "tfidf_train.shape"
   ]
  },
  {
   "cell_type": "code",
   "execution_count": 149,
   "metadata": {},
   "outputs": [
    {
     "name": "stdout",
     "output_type": "stream",
     "text": [
      "Total variance explained: 0.89\n"
     ]
    }
   ],
   "source": [
    "# svd = TruncatedSVD(n_components=3000, random_state=42)\n",
    "# svd.fit_transform(tfidf_train)\n",
    "# print(f\"Total variance explained: {np.sum(svd.explained_variance_ratio_):.2f}\")"
   ]
  },
  {
   "cell_type": "code",
   "execution_count": 150,
   "metadata": {},
   "outputs": [
    {
     "data": {
      "text/plain": [
       "1828"
      ]
     },
     "execution_count": 150,
     "metadata": {},
     "output_type": "execute_result"
    }
   ],
   "source": [
    "# cum_variance = np.cumsum(svd.explained_variance_ratio_)\n",
    "# idx = np.argmax(cum_variance > .8)\n",
    "# idx"
   ]
  },
  {
   "cell_type": "code",
   "execution_count": 9,
   "metadata": {},
   "outputs": [],
   "source": [
    "svd = TruncatedSVD(n_components=1828, random_state=42)\n",
    "X = svd.fit_transform(tfidf_train)\n",
    "X_test = svd.transform(tfidf_test)"
   ]
  },
  {
   "cell_type": "markdown",
   "metadata": {},
   "source": [
    "# Classification"
   ]
  },
  {
   "cell_type": "code",
   "execution_count": 10,
   "metadata": {},
   "outputs": [],
   "source": [
    "from sklearn.model_selection import train_test_split\n",
    "from sklearn.metrics import f1_score\n",
    "from sklearn.tree import DecisionTreeClassifier\n",
    "from sklearn.svm import SVC\n",
    "from sklearn.ensemble import RandomForestClassifier\n",
    "from sklearn.neighbors import KNeighborsClassifier\n",
    "from sklearn.metrics import classification_report\n",
    "from sklearn.model_selection import GridSearchCV\n",
    "from sklearn.naive_bayes import GaussianNB"
   ]
  },
  {
   "cell_type": "code",
   "execution_count": 10,
   "metadata": {},
   "outputs": [],
   "source": [
    "# X_train, X_val, y_train, y_val = train_test_split(X, dev[\"class\"], test_size=.2, stratify=dev[\"class\"])"
   ]
  },
  {
   "cell_type": "code",
   "execution_count": 154,
   "metadata": {},
   "outputs": [
    {
     "name": "stdout",
     "output_type": "stream",
     "text": [
      "0.8491128371972119\n"
     ]
    }
   ],
   "source": [
    "# clf = DecisionTreeClassifier()\n",
    "# clf.fit(X_train, y_train)\n",
    "# y_pred_val = clf.predict(X_val)\n",
    "# print(f1_score(y_val, y_pred_val, average='weighted'))"
   ]
  },
  {
   "cell_type": "code",
   "execution_count": 22,
   "metadata": {},
   "outputs": [
    {
     "name": "stdout",
     "output_type": "stream",
     "text": [
      "0.9607703162292075\n"
     ]
    }
   ],
   "source": [
    "# clf = SVC()   \n",
    "# clf.fit(X_train, y_train)\n",
    "# y_pred_val = clf.predict(X_val)\n",
    "# print(f1_score(y_val, y_pred_val, average='weighted'))"
   ]
  },
  {
   "cell_type": "code",
   "execution_count": 155,
   "metadata": {},
   "outputs": [
    {
     "name": "stdout",
     "output_type": "stream",
     "text": [
      "0.8513091237267244\n"
     ]
    }
   ],
   "source": [
    "# clf = RandomForestClassifier()\n",
    "# clf.fit(X_train, y_train)\n",
    "# y_pred_val = clf.predict(X_val)\n",
    "# print(f1_score(y_val, y_pred_val, average='weighted'))"
   ]
  },
  {
   "cell_type": "code",
   "execution_count": 156,
   "metadata": {},
   "outputs": [
    {
     "name": "stdout",
     "output_type": "stream",
     "text": [
      "0.7665430952474347\n"
     ]
    }
   ],
   "source": [
    "# clf = KNeighborsClassifier()\n",
    "# clf.fit(X_train, y_train)\n",
    "# y_pred_val = clf.predict(X_val)\n",
    "# print(f1_score(y_val, y_pred_val, average='weighted'))"
   ]
  },
  {
   "cell_type": "code",
   "execution_count": 35,
   "metadata": {},
   "outputs": [
    {
     "name": "stdout",
     "output_type": "stream",
     "text": [
      "0.6807803517168544\n"
     ]
    }
   ],
   "source": [
    "# clf = GaussianNB()\n",
    "# clf.fit(X_train, y_train)\n",
    "# y_pred_val = clf.predict(X_val)\n",
    "# print(f1_score(y_val, y_pred_val, average='weighted'))"
   ]
  },
  {
   "cell_type": "code",
   "execution_count": 11,
   "metadata": {},
   "outputs": [],
   "source": [
    "def build_classifier(X_train, y_train, X_test, y_test, clf_to_evaluate, scores, param_grid, n_folds=3):\n",
    "    print(\"# Tuning hyper-parameters for %s\" % score)\n",
    "    print()\n",
    "    clf = GridSearchCV(clf_to_evaluate, param_grid, cv=n_folds,\n",
    "    scoring=score, verbose=True, n_jobs=4, iid=False)\n",
    "    clf.fit(X_train, y_train)\n",
    "    print(\"Best parameters set found on development set:\")\n",
    "    print()\n",
    "    print(clf.best_params_)\n",
    "    print()\n",
    "    print(\"Grid scores on development set:\")\n",
    "    print()\n",
    "    means = clf.cv_results_['mean_test_score']\n",
    "    stds = clf.cv_results_['std_test_score']\n",
    "    for mean, std, params in zip(means, stds, clf.cv_results_['params']):\n",
    "        print(\"%0.3f (+/-%0.03f) for %r\" % (mean, std * 2, params))\n",
    "    print()\n",
    "    print(\"Detailed classification report:\")\n",
    "    print()\n",
    "    y_true, y_pred = y_test, clf.predict(X_test)\n",
    "    print(classification_report(y_true, y_pred))\n",
    "    print()\n",
    "    return clf"
   ]
  },
  {
   "cell_type": "code",
   "execution_count": 13,
   "metadata": {},
   "outputs": [
    {
     "name": "stdout",
     "output_type": "stream",
     "text": [
      "# Tuning hyper-parameters for f1_weighted\n",
      "\n",
      "Fitting 3 folds for each of 18 candidates, totalling 54 fits\n"
     ]
    },
    {
     "name": "stderr",
     "output_type": "stream",
     "text": [
      "[Parallel(n_jobs=4)]: Using backend LokyBackend with 4 concurrent workers.\n",
      "[Parallel(n_jobs=4)]: Done  42 tasks      | elapsed: 123.4min\n",
      "[Parallel(n_jobs=4)]: Done  54 out of  54 | elapsed: 193.6min finished\n",
      "c:\\users\\missb\\appdata\\local\\programs\\python\\python37\\lib\\site-packages\\sklearn\\model_selection\\_search.py:825: FutureWarning: The parameter 'iid' is deprecated in 0.22 and will be removed in 0.24.\n",
      "  \"removed in 0.24.\", FutureWarning\n"
     ]
    },
    {
     "name": "stdout",
     "output_type": "stream",
     "text": [
      "Best parameters set found on development set:\n",
      "\n",
      "{'C': 50, 'gamma': 'scale', 'kernel': 'rbf'}\n",
      "\n",
      "Grid scores on development set:\n",
      "\n",
      "0.958 (+/-0.001) for {'C': 1, 'gamma': 'scale', 'kernel': 'linear'}\n",
      "0.958 (+/-0.001) for {'C': 1, 'gamma': 'scale', 'kernel': 'rbf'}\n",
      "0.958 (+/-0.001) for {'C': 1, 'gamma': 1.0, 'kernel': 'linear'}\n",
      "0.958 (+/-0.002) for {'C': 1, 'gamma': 1.0, 'kernel': 'rbf'}\n",
      "0.958 (+/-0.001) for {'C': 1, 'gamma': 10.0, 'kernel': 'linear'}\n",
      "0.550 (+/-0.000) for {'C': 1, 'gamma': 10.0, 'kernel': 'rbf'}\n",
      "0.937 (+/-0.003) for {'C': 50, 'gamma': 'scale', 'kernel': 'linear'}\n",
      "0.959 (+/-0.002) for {'C': 50, 'gamma': 'scale', 'kernel': 'rbf'}\n",
      "0.937 (+/-0.003) for {'C': 50, 'gamma': 1.0, 'kernel': 'linear'}\n",
      "0.958 (+/-0.001) for {'C': 50, 'gamma': 1.0, 'kernel': 'rbf'}\n",
      "0.937 (+/-0.003) for {'C': 50, 'gamma': 10.0, 'kernel': 'linear'}\n",
      "0.550 (+/-0.000) for {'C': 50, 'gamma': 10.0, 'kernel': 'rbf'}\n",
      "0.933 (+/-0.004) for {'C': 100, 'gamma': 'scale', 'kernel': 'linear'}\n",
      "0.959 (+/-0.002) for {'C': 100, 'gamma': 'scale', 'kernel': 'rbf'}\n",
      "0.933 (+/-0.004) for {'C': 100, 'gamma': 1.0, 'kernel': 'linear'}\n",
      "0.958 (+/-0.001) for {'C': 100, 'gamma': 1.0, 'kernel': 'rbf'}\n",
      "0.933 (+/-0.004) for {'C': 100, 'gamma': 10.0, 'kernel': 'linear'}\n",
      "0.550 (+/-0.000) for {'C': 100, 'gamma': 10.0, 'kernel': 'rbf'}\n",
      "\n",
      "Detailed classification report:\n",
      "\n",
      "              precision    recall  f1-score   support\n",
      "\n",
      "         neg       0.94      0.93      0.93      1844\n",
      "         pos       0.97      0.97      0.97      3907\n",
      "\n",
      "    accuracy                           0.96      5751\n",
      "   macro avg       0.95      0.95      0.95      5751\n",
      "weighted avg       0.96      0.96      0.96      5751\n",
      "\n",
      "\n"
     ]
    }
   ],
   "source": [
    "# params_grid = {\n",
    "# 'kernel': [\"linear\", \"rbf\"],\n",
    "# 'C':[1,50,100],\n",
    "# 'gamma':[\"scale\", 1.0, 10.0]\n",
    "# }\n",
    "# score = \"f1_weighted\"\n",
    "# clf_to_evaluate = SVC()\n",
    "# best_clf = build_classifier(X_train, y_train, X_val, y_val, clf_to_evaluate, score, params_grid)"
   ]
  },
  {
   "cell_type": "code",
   "execution_count": 12,
   "metadata": {},
   "outputs": [],
   "source": [
    "clf = SVC(C = 1, gamma = 'scale', kernel = 'rbf') #submission 22\n",
    "clf.fit(X, dev[\"class\"])\n",
    "y_pred = clf.predict(X_test)"
   ]
  },
  {
   "cell_type": "code",
   "execution_count": 13,
   "metadata": {},
   "outputs": [],
   "source": [
    "def write_to_file(y_pred):\n",
    "    col_names = [\"Id\", \"Predicted\"]\n",
    "    with open(\"resultProject.csv\", 'w', encoding=\"UTF-8\") as fp:\n",
    "        header = ','.join(col_names)\n",
    "        fp.write(f'{header}\\n')\n",
    "        conta = 0\n",
    "        for i in range(len(y_pred)):\n",
    "            cols = []\n",
    "            cols.append(str(conta))\n",
    "            cols.append(str(y_pred[i]))\n",
    "            conta=conta+1\n",
    "            cols = ','.join(cols)\n",
    "            fp.write(f'{cols}\\n')"
   ]
  },
  {
   "cell_type": "code",
   "execution_count": 14,
   "metadata": {},
   "outputs": [],
   "source": [
    "write_to_file(y_pred)"
   ]
  }
 ],
 "metadata": {
  "kernelspec": {
   "display_name": "Python 3",
   "language": "python",
   "name": "python3"
  },
  "language_info": {
   "codemirror_mode": {
    "name": "ipython",
    "version": 3
   },
   "file_extension": ".py",
   "mimetype": "text/x-python",
   "name": "python",
   "nbconvert_exporter": "python",
   "pygments_lexer": "ipython3",
   "version": "3.7.3"
  }
 },
 "nbformat": 4,
 "nbformat_minor": 2
}
